{
  "cells": [
    {
      "metadata": {
        "slideshow": {
          "slide_type": "slide"
        }
      },
      "cell_type": "markdown",
      "source": "# Train a model using the Python SDK\n\nThis notebook demonstrates how to train a classification model using the Python SDK from a Jupyter notebook.\n\nThe first step is to connect to an Azure ML workspace:"
    },
    {
      "metadata": {
        "trusted": true,
        "slideshow": {
          "slide_type": "subslide"
        }
      },
      "cell_type": "code",
      "source": "from azureml.core import Workspace\nws = Workspace.from_config()",
      "execution_count": 1,
      "outputs": [
        {
          "output_type": "stream",
          "text": "Performing interactive authentication. Please follow the instructions on the terminal.\nTo sign in, use a web browser to open the page https://microsoft.com/devicelogin and enter the code FLAFQ2HKF to authenticate.\n",
          "name": "stdout"
        },
        {
          "output_type": "stream",
          "text": "WARNING - Failed to authenticate '{'additional_properties': {}, 'id': '/tenants/ca7981a2-785a-463d-b82a-3db87dfc3ce6', 'tenant_id': 'ca7981a2-785a-463d-b82a-3db87dfc3ce6'}' due to error 'Get Token request returned http error: 400 and server response: {\"error\":\"interaction_required\",\"error_description\":\"AADSTS50076: Due to a configuration change made by your administrator, or because you moved to a new location, you must use multi-factor authentication to access '797f4846-ba00-4fd7-ba43-dac1f8f63013'.\\r\\nTrace ID: 5c964108-0a73-43fe-820c-5d4cbfb7d600\\r\\nCorrelation ID: 2800e99f-4e2f-4a74-a32e-4725df70f990\\r\\nTimestamp: 2020-01-28 17:35:36Z\",\"error_codes\":[50076],\"timestamp\":\"2020-01-28 17:35:36Z\",\"trace_id\":\"5c964108-0a73-43fe-820c-5d4cbfb7d600\",\"correlation_id\":\"2800e99f-4e2f-4a74-a32e-4725df70f990\",\"error_uri\":\"https://login.microsoftonline.com/error?code=50076\",\"suberror\":\"basic_action\"}'\n",
          "name": "stderr"
        },
        {
          "output_type": "stream",
          "text": "Interactive authentication successfully completed.\n",
          "name": "stdout"
        }
      ]
    },
    {
      "metadata": {
        "slideshow": {
          "slide_type": "fragment"
        },
        "trusted": true
      },
      "cell_type": "code",
      "source": "print('ML Workspace: ' + ws.name, 'Resource Group: ' + ws.resource_group, 'Location: ' + ws.location, sep='\\n')",
      "execution_count": 16,
      "outputs": [
        {
          "output_type": "stream",
          "text": "ML Workspace: CT-AML-WS\nResource Group: CT-AML-RG\nLocation: southcentralus\n",
          "name": "stdout"
        }
      ]
    },
    {
      "metadata": {
        "slideshow": {
          "slide_type": "slide"
        }
      },
      "cell_type": "markdown",
      "source": "## Create an experiment an load a dataset\n\nNext we create an experiment in the workspace:"
    },
    {
      "metadata": {
        "trusted": true,
        "slideshow": {
          "slide_type": "fragment"
        }
      },
      "cell_type": "code",
      "source": "from azureml.core import Experiment\nexperiment = Experiment(workspace=ws, name=\"diabetes-experiment\")",
      "execution_count": 3,
      "outputs": []
    },
    {
      "metadata": {
        "slideshow": {
          "slide_type": "fragment"
        }
      },
      "cell_type": "markdown",
      "source": "and load a dataset and split it into training and test datsets:"
    },
    {
      "metadata": {
        "trusted": true,
        "slideshow": {
          "slide_type": "fragment"
        }
      },
      "cell_type": "code",
      "source": "from azureml.opendatasets import Diabetes\nfrom sklearn.model_selection import train_test_split\n\nx_df = Diabetes.get_tabular_dataset().to_pandas_dataframe().dropna()\ny_df = x_df.pop(\"Y\")\n\nX_train, X_test, y_train, y_test = train_test_split(x_df, y_df, test_size=0.2, random_state=66)",
      "execution_count": 4,
      "outputs": [
        {
          "output_type": "stream",
          "text": "ActivityStarted, get_tabular_dataset\nActivityCompleted: Activity=get_tabular_dataset, HowEnded=Success, Duration=45059.75 [ms]\n",
          "name": "stdout"
        }
      ]
    },
    {
      "metadata": {
        "trusted": true,
        "slideshow": {
          "slide_type": "subslide"
        }
      },
      "cell_type": "code",
      "source": "X_train.head()",
      "execution_count": 5,
      "outputs": [
        {
          "output_type": "execute_result",
          "execution_count": 5,
          "data": {
            "text/html": "<div>\n<style scoped>\n    .dataframe tbody tr th:only-of-type {\n        vertical-align: middle;\n    }\n\n    .dataframe tbody tr th {\n        vertical-align: top;\n    }\n\n    .dataframe thead th {\n        text-align: right;\n    }\n</style>\n<table border=\"1\" class=\"dataframe\">\n  <thead>\n    <tr style=\"text-align: right;\">\n      <th></th>\n      <th>AGE</th>\n      <th>SEX</th>\n      <th>BMI</th>\n      <th>BP</th>\n      <th>S1</th>\n      <th>S2</th>\n      <th>S3</th>\n      <th>S4</th>\n      <th>S5</th>\n      <th>S6</th>\n    </tr>\n  </thead>\n  <tbody>\n    <tr>\n      <th>440</th>\n      <td>36</td>\n      <td>1</td>\n      <td>30.0</td>\n      <td>95.0</td>\n      <td>201</td>\n      <td>125.2</td>\n      <td>42.0</td>\n      <td>4.79</td>\n      <td>5.1299</td>\n      <td>85</td>\n    </tr>\n    <tr>\n      <th>389</th>\n      <td>47</td>\n      <td>2</td>\n      <td>26.5</td>\n      <td>70.0</td>\n      <td>181</td>\n      <td>104.8</td>\n      <td>63.0</td>\n      <td>3.00</td>\n      <td>4.1897</td>\n      <td>70</td>\n    </tr>\n    <tr>\n      <th>5</th>\n      <td>23</td>\n      <td>1</td>\n      <td>22.6</td>\n      <td>89.0</td>\n      <td>139</td>\n      <td>64.8</td>\n      <td>61.0</td>\n      <td>2.00</td>\n      <td>4.1897</td>\n      <td>68</td>\n    </tr>\n    <tr>\n      <th>289</th>\n      <td>28</td>\n      <td>2</td>\n      <td>31.5</td>\n      <td>83.0</td>\n      <td>228</td>\n      <td>149.4</td>\n      <td>38.0</td>\n      <td>6.00</td>\n      <td>5.3132</td>\n      <td>83</td>\n    </tr>\n    <tr>\n      <th>101</th>\n      <td>53</td>\n      <td>2</td>\n      <td>22.2</td>\n      <td>113.0</td>\n      <td>197</td>\n      <td>115.2</td>\n      <td>67.0</td>\n      <td>3.00</td>\n      <td>4.3041</td>\n      <td>100</td>\n    </tr>\n  </tbody>\n</table>\n</div>",
            "text/plain": "     AGE  SEX   BMI     BP   S1     S2    S3    S4      S5   S6\n440   36    1  30.0   95.0  201  125.2  42.0  4.79  5.1299   85\n389   47    2  26.5   70.0  181  104.8  63.0  3.00  4.1897   70\n5     23    1  22.6   89.0  139   64.8  61.0  2.00  4.1897   68\n289   28    2  31.5   83.0  228  149.4  38.0  6.00  5.3132   83\n101   53    2  22.2  113.0  197  115.2  67.0  3.00  4.3041  100"
          },
          "metadata": {}
        }
      ]
    },
    {
      "metadata": {
        "slideshow": {
          "slide_type": "slide"
        }
      },
      "cell_type": "markdown",
      "source": "## Train the Model\n\nNext we train a model using 10 runs at different alpha values (hyperparameters):"
    },
    {
      "metadata": {
        "trusted": true,
        "slideshow": {
          "slide_type": "fragment"
        }
      },
      "cell_type": "code",
      "source": "from sklearn.linear_model import Ridge\nfrom sklearn.metrics import mean_squared_error\nfrom sklearn.externals import joblib\nimport math\n\nalphas = [0.1, 0.2, 0.3, 0.4, 0.5, 0.6, 0.7, 0.8, 0.9, 1.0]\n\nfor alpha in alphas:\n    run = experiment.start_logging()\n    run.log(\"alpha_value\", alpha)\n    \n    model = Ridge(alpha=alpha)\n    model.fit(X=X_train, y=y_train)\n    y_pred = model.predict(X=X_test)\n    rmse = math.sqrt(mean_squared_error(y_true=y_test, y_pred=y_pred))\n    run.log(\"rmse\", rmse)\n    \n    model_name = \"model_alpha_\" + str(alpha) + \".pkl\"\n    filename = \"outputs/\" + model_name\n    \n    joblib.dump(value=model, filename=filename)\n    run.upload_file(name=model_name, path_or_stream=filename)\n    run.complete()",
      "execution_count": 7,
      "outputs": []
    },
    {
      "metadata": {
        "slideshow": {
          "slide_type": "slide"
        }
      },
      "cell_type": "markdown",
      "source": "## Review the Experiment in Azure ML \n\nOn completion, we can review the experiment and runs in Azure ML:"
    },
    {
      "metadata": {
        "trusted": true,
        "slideshow": {
          "slide_type": "fragment"
        }
      },
      "cell_type": "code",
      "source": "experiment",
      "execution_count": 8,
      "outputs": [
        {
          "output_type": "execute_result",
          "execution_count": 8,
          "data": {
            "text/html": "<table style=\"width:100%\"><tr><th>Name</th><th>Workspace</th><th>Report Page</th><th>Docs Page</th></tr><tr><td>diabetes-experiment</td><td>CT-AML-WS</td><td><a href=\"https://ml.azure.com/experiments/diabetes-experiment?wsid=/subscriptions/a70d4ef6-1d6c-4b9e-9e8a-9e69cd8f86c1/resourcegroups/CT-AML-RG/workspaces/CT-AML-WS\" target=\"_blank\" rel=\"noopener\">Link to Azure Machine Learning studio</a></td><td><a href=\"https://docs.microsoft.com/en-us/python/api/azureml-core/azureml.core.experiment.Experiment?view=azure-ml-py\" target=\"_blank\" rel=\"noopener\">Link to Documentation</a></td></tr></table>",
            "text/plain": "Experiment(Name: diabetes-experiment,\nWorkspace: CT-AML-WS)"
          },
          "metadata": {}
        }
      ]
    },
    {
      "metadata": {
        "slideshow": {
          "slide_type": "slide"
        }
      },
      "cell_type": "markdown",
      "source": "## Get the best model\n\nIn addition to being able to download model files from the experiment in the portal, you can also download them programmatically. The following code iterates through each run in the experiment, and accesses both the logged run metrics and the run details (which contains the run_id). This keeps track of the best run, in this case the run with the lowest root-mean-squared-error."
    },
    {
      "metadata": {
        "trusted": true,
        "slideshow": {
          "slide_type": "subslide"
        }
      },
      "cell_type": "code",
      "source": "minimum_rmse_runid = None\nminimum_rmse = None\n\nfor run in experiment.get_runs():\n    run_metrics = run.get_metrics()\n    run_details = run.get_details()\n    # each logged metric becomes a key in this returned dict\n    run_rmse = run_metrics[\"rmse\"]\n    run_id = run_details[\"runId\"]\n    \n    if minimum_rmse is None:\n        minimum_rmse = run_rmse\n        minimum_rmse_runid = run_id\n    else:\n        if run_rmse < minimum_rmse:\n            minimum_rmse = run_rmse\n            minimum_rmse_runid = run_id\n\nprint(\"Best run_id: \" + minimum_rmse_runid)\nprint(\"Best run_id rmse: \" + str(minimum_rmse))  ",
      "execution_count": 9,
      "outputs": [
        {
          "output_type": "stream",
          "text": "Best run_id: 66a504e7-007a-4317-9f89-b8ac39ef3792\nBest run_id rmse: 56.60520331339142\n",
          "name": "stdout"
        }
      ]
    },
    {
      "metadata": {
        "trusted": true,
        "slideshow": {
          "slide_type": "slide"
        }
      },
      "cell_type": "markdown",
      "source": "## Get the model file and download\n\nUse the best run id to fetch the individual run using the Run constructor along with the experiment object. Then call get_file_names() to see all the files available for download from this run.\n"
    },
    {
      "metadata": {
        "slideshow": {
          "slide_type": "fragment"
        },
        "trusted": true
      },
      "cell_type": "code",
      "source": "from azureml.core import Run\nbest_run = Run(experiment=experiment, run_id=minimum_rmse_runid)\nprint(best_run.get_file_names())",
      "execution_count": 12,
      "outputs": [
        {
          "output_type": "stream",
          "text": "['model_alpha_0.1.pkl']\n",
          "name": "stdout"
        }
      ]
    },
    {
      "metadata": {
        "slideshow": {
          "slide_type": "fragment"
        },
        "trusted": true
      },
      "cell_type": "code",
      "source": "best_run.download_file(name=\"model_alpha_0.1.pkl\")",
      "execution_count": null,
      "outputs": []
    }
  ],
  "metadata": {
    "kernelspec": {
      "name": "python36",
      "display_name": "Python 3.6",
      "language": "python"
    },
    "language_info": {
      "mimetype": "text/x-python",
      "nbconvert_exporter": "python",
      "name": "python",
      "pygments_lexer": "ipython3",
      "version": "3.6.6",
      "file_extension": ".py",
      "codemirror_mode": {
        "version": 3,
        "name": "ipython"
      }
    },
    "celltoolbar": "Slideshow"
  },
  "nbformat": 4,
  "nbformat_minor": 2
}