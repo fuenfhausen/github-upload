{
  "cells": [
    {
      "metadata": {
        "slideshow": {
          "slide_type": "slide"
        }
      },
      "cell_type": "markdown",
      "source": "# Create an Azure ML Workspace\n\nTo use Azure Machine Learning, you first create a Workspace.  This can be accomplished by one of the following methods:\n\n- From the Azure portal\n- Using the Azure ML SDK\n- From the Azure Command Line Interface (CLI)\n- From an Azure Resource Manager (ARM) template\n\n"
    },
    {
      "metadata": {
        "slideshow": {
          "slide_type": "subslide"
        }
      },
      "cell_type": "markdown",
      "source": "## What information is needed?\n\nTo create a new Azure ML workspace, you will need the following information:\n\n- A workspace name\n- An Azure subscription\n- An Azure resource group\n- An Azure region or location\n"
    },
    {
      "metadata": {
        "slideshow": {
          "slide_type": "subslide"
        }
      },
      "cell_type": "markdown",
      "source": "## What is created when you create a Workspace?\n\nThe Azure Machine Learning workspace relies on the following Azure services or entities which may be created automatically when you create an Azure ML workspace: \n\n- Azure Resource Group\n- Azure Storage Account\n- Azure Key Vault\n- Azure Application Insights\n- Azure Container Registry\n- Azure Machine Learning workspace"
    },
    {
      "metadata": {
        "slideshow": {
          "slide_type": "slide"
        }
      },
      "cell_type": "markdown",
      "source": "# Create an Azure ML Workspace from the Azure Portal\n\nFirst, log in to the Azure portal and create a new resource:\n\n![(1 - Create a Resource)](images/1 - Create a Resource.png)\n"
    },
    {
      "metadata": {
        "slideshow": {
          "slide_type": "subslide"
        }
      },
      "cell_type": "markdown",
      "source": "Next search the marketplace for \"Azure Machine Learning\" or simply select the <b>AI + Machine Learning</b> category to find the <b>Machine Learning</b> resource:\n\n![(2 - Select AML from Markeplace)](images/2 - Select AML from Markeplace.png)\n"
    },
    {
      "metadata": {
        "slideshow": {
          "slide_type": "subslide"
        }
      },
      "cell_type": "markdown",
      "source": "Select <b>Machine Learning</b> ad configure your machine learning workspace.  Remember, you will need a name for your workspace, an azure subscription, a resource group, and an Azure location or region.\n\n![(3 - Configure WS and Create)](images/3 - Configure WS and Create.png)"
    },
    {
      "metadata": {
        "slideshow": {
          "slide_type": "subslide"
        }
      },
      "cell_type": "markdown",
      "source": "Now examine your new resource group to see the resources created.  \n\n![(4 - Review Resources Created)](images/4 - Review Resources Created.png)\n\n"
    },
    {
      "metadata": {
        "slideshow": {
          "slide_type": "subslide"
        }
      },
      "cell_type": "markdown",
      "source": "Note that four resources are automatically created:\n\n- The Azure ML workspace itself\n- Keyvault\n- Application Insights\n- Storage Account"
    },
    {
      "metadata": {
        "slideshow": {
          "slide_type": "slide"
        }
      },
      "cell_type": "markdown",
      "source": "# Create an Azure ML Workspace using the Azure ML SDK (Python)\n\nYou can use any Python (or R environment) with the Azure ML SDK to create an Azure ML Workspace as well.  Below we use the Python SDK to create our workspace.\n\nWe first set up some variables to name our workspace and the other resources that will be needed.  Remember we need the following pieces of information to create an ML workspace:\n\n- A workspace name\n- An Azure subscription\n- An Azure resource group\n- An Azure region or location\n\n"
    },
    {
      "metadata": {
        "trusted": true,
        "slideshow": {
          "slide_type": "subslide"
        }
      },
      "cell_type": "code",
      "source": "name = 'CT-AML'\nws_name = name + '-WS'\nrg_name = name + '-RG'\naz_sub = 'a70d4ef6-1d6c-4b9e-9e8a-9e69cd8f86c1'\nlocation = 'southcentralus'\n\nprint('Base name: ' + name)\nprint('AML workspace name: ' + ws_name)\nprint('Resource Group: ' + rg_name)\nprint('Azure subscription: ' + az_sub)\nprint('Azure location: ' + location)",
      "execution_count": 2,
      "outputs": [
        {
          "output_type": "stream",
          "text": "Base name: CT-AML\nAML workspace name: CT-AML-WS\nResource Group: CT-AML-RG\nAzure subscription: a70d4ef6-1d6c-4b9e-9e8a-9e69cd8f86c1\nAzure location: southcentralus\n",
          "name": "stdout"
        }
      ]
    },
    {
      "metadata": {
        "slideshow": {
          "slide_type": "subslide"
        }
      },
      "cell_type": "markdown",
      "source": "Next we create the workspace using the following code:"
    },
    {
      "metadata": {
        "trusted": true,
        "slideshow": {
          "slide_type": "subslide"
        }
      },
      "cell_type": "code",
      "source": "from azureml.core.workspace import Workspace\n\nws = Workspace.create(name = ws_name,\n                         subscription_id = az_sub,\n                         resource_group = rg_name,\n                         create_resource_group = True,\n                         location = location)",
      "execution_count": 10,
      "outputs": [
        {
          "output_type": "stream",
          "text": "UserWarning: The resource group doesn't exist or was not provided. AzureML SDK is creating a resource group=CT-AML-RG in location=southcentralus using subscription=a70d4ef6-1d6c-4b9e-9e8a-9e69cd8f86c1.\n",
          "name": "stderr"
        },
        {
          "output_type": "stream",
          "text": "Deploying AppInsights with name ctamlwsinsightsb1a6604a0.\nDeployed AppInsights with name ctamlwsinsightsb1a6604a0. Took 4.46 seconds.\nDeploying KeyVault with name ctamlwskeyvaultd23a5401c.\nDeploying StorageAccount with name ctamlwsstorage5efb78a998.\nDeployed KeyVault with name ctamlwskeyvaultd23a5401c. Took 16.6 seconds.\nDeployed StorageAccount with name ctamlwsstorage5efb78a998. Took 18.62 seconds.\nDeploying Workspace with name CT-AML-WS.\nDeployed Workspace with name CT-AML-WS. Took 26.82 seconds.\n",
          "name": "stdout"
        }
      ]
    },
    {
      "metadata": {
        "slideshow": {
          "slide_type": "subslide"
        }
      },
      "cell_type": "markdown",
      "source": "We can retrieve the details of a workspace using the <b>get_details</b> method: "
    },
    {
      "metadata": {
        "trusted": true,
        "slideshow": {
          "slide_type": "subslide"
        }
      },
      "cell_type": "code",
      "source": "ws.get_details()",
      "execution_count": 11,
      "outputs": [
        {
          "output_type": "execute_result",
          "execution_count": 11,
          "data": {
            "text/plain": "{'id': '/subscriptions/a70d4ef6-1d6c-4b9e-9e8a-9e69cd8f86c1/resourceGroups/CT-AML-RG/providers/Microsoft.MachineLearningServices/workspaces/CT-AML-WS',\n 'name': 'CT-AML-WS',\n 'location': 'southcentralus',\n 'type': 'Microsoft.MachineLearningServices/workspaces',\n 'sku': 'Basic',\n 'workspaceid': '89cf6182-9908-48e7-99b0-9a17a567516f',\n 'description': '',\n 'friendlyName': 'CT-AML-WS',\n 'creationTime': '2020-01-27T23:09:12.1577605+00:00',\n 'keyVault': '/subscriptions/a70d4ef6-1d6c-4b9e-9e8a-9e69cd8f86c1/resourcegroups/ct-aml-rg/providers/microsoft.keyvault/vaults/ctamlwskeyvaultd23a5401c',\n 'applicationInsights': '/subscriptions/a70d4ef6-1d6c-4b9e-9e8a-9e69cd8f86c1/resourcegroups/ct-aml-rg/providers/microsoft.insights/components/ctamlwsinsightsb1a6604a0',\n 'identityPrincipalId': '938a4856-2e1c-4fc2-8a4a-75d6d6b1c630',\n 'identityTenantId': '72f988bf-86f1-41af-91ab-2d7cd011db47',\n 'identityType': 'SystemAssigned',\n 'storageAccount': '/subscriptions/a70d4ef6-1d6c-4b9e-9e8a-9e69cd8f86c1/resourcegroups/ct-aml-rg/providers/microsoft.storage/storageaccounts/ctamlwsstorage5efb78a998'}"
          },
          "metadata": {}
        }
      ]
    },
    {
      "metadata": {
        "slideshow": {
          "slide_type": "subslide"
        }
      },
      "cell_type": "markdown",
      "source": "Note that by default, this method creates a \"Basic\" sku instance.  \n\nTo make it easier to connect to our workspace, we can write a config file to a hidden folder, and subsequently use it to connect to our workspace."
    },
    {
      "metadata": {
        "trusted": true,
        "slideshow": {
          "slide_type": "subslide"
        }
      },
      "cell_type": "code",
      "source": "ws.write_config()",
      "execution_count": 12,
      "outputs": []
    },
    {
      "metadata": {
        "slideshow": {
          "slide_type": "subslide"
        }
      },
      "cell_type": "markdown",
      "source": "The configuration file for a workspace is called <b>config.json</b> and is stored in a hidden folder called <b>.azureml</b>\n\n![(SDK - Hidden folder)](images/SDK - Hidden folder.png)"
    },
    {
      "metadata": {
        "slideshow": {
          "slide_type": "subslide"
        }
      },
      "cell_type": "markdown",
      "source": "![(SDK - Config File)](images/SDK - Config File.png)"
    },
    {
      "metadata": {
        "trusted": true,
        "slideshow": {
          "slide_type": "subslide"
        }
      },
      "cell_type": "code",
      "source": "ws_config_file = open(\".azureml/config.json\", \"r\").read()\nprint(ws_config_file)",
      "execution_count": 16,
      "outputs": [
        {
          "output_type": "stream",
          "text": "{\"Id\": null, \"Scope\": \"/subscriptions/a70d4ef6-1d6c-4b9e-9e8a-9e69cd8f86c1/resourceGroups/CT-AML-RG/providers/Microsoft.MachineLearningServices/workspaces/CT-AML-WS\"}\n",
          "name": "stdout"
        }
      ]
    },
    {
      "metadata": {
        "trusted": true
      },
      "cell_type": "code",
      "source": "",
      "execution_count": null,
      "outputs": []
    }
  ],
  "metadata": {
    "kernelspec": {
      "name": "python36",
      "display_name": "Python 3.6",
      "language": "python"
    },
    "language_info": {
      "mimetype": "text/x-python",
      "nbconvert_exporter": "python",
      "name": "python",
      "pygments_lexer": "ipython3",
      "version": "3.6.6",
      "file_extension": ".py",
      "codemirror_mode": {
        "version": 3,
        "name": "ipython"
      }
    }
  },
  "nbformat": 4,
  "nbformat_minor": 2
}